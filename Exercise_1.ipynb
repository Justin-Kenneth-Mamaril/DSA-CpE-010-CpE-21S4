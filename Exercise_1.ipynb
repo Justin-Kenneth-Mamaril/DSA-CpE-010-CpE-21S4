{
  "nbformat": 4,
  "nbformat_minor": 0,
  "metadata": {
    "colab": {
      "provenance": [],
      "authorship_tag": "ABX9TyM4v0XH3o+2M/X/hlFYqzHe",
      "include_colab_link": true
    },
    "kernelspec": {
      "name": "python3",
      "display_name": "Python 3"
    },
    "language_info": {
      "name": "python"
    }
  },
  "cells": [
    {
      "cell_type": "markdown",
      "metadata": {
        "id": "view-in-github",
        "colab_type": "text"
      },
      "source": [
        "<a href=\"https://colab.research.google.com/github/JustinMamaril/DSA-CpE-010-CpE-21S4/blob/main/Exercise_1.ipynb\" target=\"_parent\"><img src=\"https://colab.research.google.com/assets/colab-badge.svg\" alt=\"Open In Colab\"/></a>"
      ]
    },
    {
      "cell_type": "markdown",
      "source": [
        "**Exercise 1** **(Class Constructor and Method)**\n",
        "\n",
        "1. Develop a Python program that computes the area of a Rectangle shape\n",
        "2. Use Rectangle () as a class name.\n",
        "3. Use attributes length and width.\n",
        "4. Calculate the Area() of the rectangle.\n",
        "5. Display the computed area of a rectangle."
      ],
      "metadata": {
        "id": "kgDMfFq0ne5r"
      }
    },
    {
      "cell_type": "code",
      "execution_count": 2,
      "metadata": {
        "colab": {
          "base_uri": "https://localhost:8080/"
        },
        "id": "wY_9mcdjmvUs",
        "outputId": "4162333c-5527-4c02-dab8-bb3e52eb2df5"
      },
      "outputs": [
        {
          "name": "stdout",
          "output_type": "stream",
          "text": [
            "Enter the length of the rectangle: 10\n",
            "Enter the width of the rectangle: 10\n",
            "The area of the rectangle is:  100.0\n",
            "Enter the length of the rectangle: 20\n"
          ]
        }
      ],
      "source": [
        "def rectangle(length,width):\n",
        "  area = length * width\n",
        "\n",
        "  return area\n",
        "\n",
        "length = float(input(\"Enter the length of the rectangle: \"))\n",
        "width = float(input(\"Enter the width of the rectangle: \"))\n",
        "\n",
        "print (\"The area of the rectangle is: \", rectangle(length,width))\n"
      ]
    }
  ]
}