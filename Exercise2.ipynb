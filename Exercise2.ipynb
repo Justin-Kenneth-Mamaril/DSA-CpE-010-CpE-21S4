{
  "nbformat": 4,
  "nbformat_minor": 0,
  "metadata": {
    "colab": {
      "provenance": [],
      "authorship_tag": "ABX9TyPnhh3agLv9hXAhBMj/C0zJ",
      "include_colab_link": true
    },
    "kernelspec": {
      "name": "python3",
      "display_name": "Python 3"
    },
    "language_info": {
      "name": "python"
    }
  },
  "cells": [
    {
      "cell_type": "markdown",
      "metadata": {
        "id": "view-in-github",
        "colab_type": "text"
      },
      "source": [
        "<a href=\"https://colab.research.google.com/github/JustinMamaril/DSA-CpE-010-CpE-21S4/blob/main/Exercise2.ipynb\" target=\"_parent\"><img src=\"https://colab.research.google.com/assets/colab-badge.svg\" alt=\"Open In Colab\"/></a>"
      ]
    },
    {
      "cell_type": "code",
      "source": [
        "class Shapes():\n",
        "  def __init__(self,length,width,side,base,height):\n",
        "    self.length = length\n",
        "    self.width = width\n",
        "    self.side = side\n",
        "    self.base = base\n",
        "    self.height = height\n",
        "\n",
        "  def Area_Rectangle(self):\n",
        "    return self.length * self.width\n",
        "\n",
        "  def Area_Square(self):\n",
        "    return self.side * self.side\n",
        "\n",
        "  def Area_Triangle(self):\n",
        "    return 0.5 * self.base * self.height\n",
        "\n",
        "class Rectangle(Shapes):\n",
        "  def __init__(self,length,width):\n",
        "    self.length = length\n",
        "    self.width = width\n",
        "\n",
        "  def area(self):\n",
        "    return self.Area_Rectangle()\n",
        "\n",
        "class Square(Shapes):\n",
        "  def __init__(self,side):\n",
        "    self.side = side\n",
        "\n",
        "  def area(self):\n",
        "    return self.Area_Square()\n",
        "\n",
        "class Triangle(Shapes):\n",
        "  def __init__(self,base, height):\n",
        "    self.base = base\n",
        "    self.height = height\n",
        "\n",
        "  def area(self):\n",
        "    return self.Area_Triangle()\n",
        "\n",
        "rectangle = Rectangle(5,10)\n",
        "square = Square(5)\n",
        "triangle = Triangle(5,10)\n",
        "\n",
        "print (\"The area of the rectangle is: \", rectangle.area())\n",
        "print (\"The area of the square is: \", square.area())\n",
        "print (\"The area of the triangle is: \", triangle.area())"
      ],
      "metadata": {
        "colab": {
          "base_uri": "https://localhost:8080/"
        },
        "id": "zBKGr80Y49Gg",
        "outputId": "464c5720-0611-4c68-cabc-fe0672c77dcc"
      },
      "execution_count": 24,
      "outputs": [
        {
          "output_type": "stream",
          "name": "stdout",
          "text": [
            "The area of the rectangle is:  50\n",
            "The area of the square is:  25\n",
            "The area of the triangle is:  25.0\n"
          ]
        }
      ]
    }
  ]
}