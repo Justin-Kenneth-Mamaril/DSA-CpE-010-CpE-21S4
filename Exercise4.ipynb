{
  "nbformat": 4,
  "nbformat_minor": 0,
  "metadata": {
    "colab": {
      "provenance": [],
      "authorship_tag": "ABX9TyOI3cxq3vCiIVIIE9gSdLsB",
      "include_colab_link": true
    },
    "kernelspec": {
      "name": "python3",
      "display_name": "Python 3"
    },
    "language_info": {
      "name": "python"
    }
  },
  "cells": [
    {
      "cell_type": "markdown",
      "metadata": {
        "id": "view-in-github",
        "colab_type": "text"
      },
      "source": [
        "<a href=\"https://colab.research.google.com/github/JustinMamaril/DSA-CpE-010-CpE21S4/blob/main/Exercise4.ipynb\" target=\"_parent\"><img src=\"https://colab.research.google.com/assets/colab-badge.svg\" alt=\"Open In Colab\"/></a>"
      ]
    },
    {
      "cell_type": "code",
      "execution_count": 5,
      "metadata": {
        "colab": {
          "base_uri": "https://localhost:8080/"
        },
        "id": "P8d5-w6EBDG-",
        "outputId": "cdffd558-a0cb-4682-b74e-443d7aba33d3"
      },
      "outputs": [
        {
          "output_type": "stream",
          "name": "stdout",
          "text": [
            "array('i', [1, 2, 3, 4, 5, 1, 2, 3, 4, 5])\n",
            "array('i', [1, 2, 3, 4, 5, 1, 2, 3, 4, 5, 1, 2, 3, 4, 5])\n"
          ]
        }
      ],
      "source": [
        "import array\n",
        "array.typecodes\n",
        "a = array.array('i', [1,2,3,4,5])\n",
        "b = array.array ('i', [1,2,3,4,5])\n",
        "print (a+b)\n",
        "print (a*3)\n"
      ]
    },
    {
      "cell_type": "code",
      "source": [
        "from array import array # importing array from array module\n",
        "a = array('i', [4,5,6,7]) #initializing array\n",
        "a.insert(1,2) #inserting element: 2 at index 1\n",
        "a #Printing array a\n",
        "array ('i', [4,2,5,6,7])\n",
        "a.insert(-1,0) #insert elemen; 0 at index: -1\n",
        "a\n",
        "a.insert(10, -1) #insert element: -1 at index; 10, this is out of range\n",
        "a\n",
        "array('i',[4,2,5,6,7,0,-1])"
      ],
      "metadata": {
        "id": "O7XCDUUwCodM",
        "outputId": "0a22d6cf-38b2-4cda-9b51-cf756f82fe1f",
        "colab": {
          "base_uri": "https://localhost:8080/"
        }
      },
      "execution_count": 3,
      "outputs": [
        {
          "output_type": "execute_result",
          "data": {
            "text/plain": [
              "array('i', [4, 2, 5, 6, 7, 0, -1])"
            ]
          },
          "metadata": {},
          "execution_count": 3
        }
      ]
    },
    {
      "cell_type": "code",
      "source": [
        "class Node:\n",
        "\n",
        "  #Function to initialize the node object\n",
        "  def __init__(self, data):\n",
        "    self.data = data #initialize data\n",
        "    self.next = None #initialize\n",
        "              #nexxt as null\n",
        "\n",
        "     #Linked list class\n",
        "class LinkedList:\n",
        "  def __init__(self):\n",
        "    self.head = None\n",
        "\n",
        "  def printdata (self):\n",
        "    temp = self.head\n",
        "    while (temp):\n",
        "      print (temp.data)\n",
        "      temp = temp.next\n",
        "\n",
        "#code execution starts here\n",
        "if __name__ == '__main__':\n",
        "  #start with the empty list\n",
        "  llist = LinkedList()\n",
        "  llist.head = Node(1)\n",
        "  second = Node(2)\n",
        "  third = Node(3)\n",
        "  llist.head.next = second #link first node with second\n",
        "  second.next = third #link second node with the third node\n",
        "\n",
        "  llist.printdata()\n"
      ],
      "metadata": {
        "id": "TGxeumU-EjSM",
        "outputId": "a5916376-ee27-4970-b0e5-b66e1fa816c5",
        "colab": {
          "base_uri": "https://localhost:8080/"
        }
      },
      "execution_count": 20,
      "outputs": [
        {
          "output_type": "stream",
          "name": "stdout",
          "text": [
            "1\n",
            "2\n",
            "3\n"
          ]
        }
      ]
    },
    {
      "cell_type": "code",
      "source": [
        "#include <iostream>\n",
        "using namespace std;\n",
        "\n",
        "class Node {\n",
        "  public:\n",
        "  int value;\n",
        "  Node* next;\n",
        "};\n",
        "\n",
        "int main() {\n",
        "  Node* head;\n",
        "  Node* one = NULL;\n",
        "  Node* two = NULL;\n",
        "  Node* three = NULL;\n",
        "  Node* four = NULL;\n",
        "  Node* five = NULL;\n",
        "\n",
        "// allocate 3 nodes in the heap\n",
        "  one = new Node();\n",
        "  two = new Node();\n",
        "  three = new Node();\n",
        "  four = new Node();\n",
        "  five = new Node();\n",
        "\n",
        "// assign value values\n",
        "  one -> next = 1;\n",
        "  two -> next = 2;\n",
        "  three -> next = 3;\n",
        "  four -> next = 4;\n",
        "  five -> next = 5;\n",
        "\n",
        "// Connect nodes\n",
        "  one -> value = 1;\n",
        "  two -> value = 2;\n",
        "  three -> next = 3;\n",
        "  four -> next = 4;\n",
        "  five -> next = NULL;\n",
        "\n",
        "// print the linked list value\n",
        "head = one;\n",
        "  while (head != NULL){\n",
        "    cout << head -> value;\n",
        "    head = head -> next;\n",
        "  }\n",
        "}"
      ],
      "metadata": {
        "id": "vLePg1ikTXqH"
      },
      "execution_count": null,
      "outputs": []
    }
  ]
}